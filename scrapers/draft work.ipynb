{
 "cells": [
  {
   "cell_type": "code",
   "execution_count": 20,
   "id": "629a19d3",
   "metadata": {},
   "outputs": [],
   "source": [
    "import numpy as np\n",
    "import cv2\n",
    "import pandas as pd\n",
    "import pytesseract\n",
    "import re"
   ]
  },
  {
   "cell_type": "code",
   "execution_count": 21,
   "id": "19130f45",
   "metadata": {},
   "outputs": [],
   "source": [
    "pytesseract.pytesseract.tesseract_cmd = r\"C:\\Program Files\\Tesseract-OCR\\tesseract.exe\""
   ]
  },
  {
   "cell_type": "code",
   "execution_count": 22,
   "id": "1792a7b1",
   "metadata": {},
   "outputs": [],
   "source": [
    "img = cv2.imread('../img/costco-flyer1.jpg')"
   ]
  },
  {
   "cell_type": "code",
   "execution_count": 23,
   "id": "4e2ac9be",
   "metadata": {},
   "outputs": [],
   "source": [
    "def preprocess(image):\n",
    "    \"\"\"\n",
    "    :param image:\n",
    "    :return preprocessed image:\n",
    "    \"\"\"\n",
    "    global img\n",
    "    # Preprocess\n",
    "    img = cv2.resize(image, (0, 0), fx=2, fy=2, interpolation=cv2.INTER_CUBIC)\n",
    "    imgGray = cv2.cvtColor(img, cv2.COLOR_BGR2GRAY)  # Grayscale\n",
    "    imgBlur = cv2.GaussianBlur(imgGray, (7, 7), 0)\n",
    "    ret, thresh = cv2.threshold(imgBlur, 0, 255, cv2.THRESH_OTSU + cv2.THRESH_BINARY_INV)\n",
    "    kernel = cv2.getStructuringElement(cv2.MORPH_RECT, (9, 9))\n",
    "    connected = cv2.dilate(thresh, kernel, iterations=8)\n",
    "    return connected"
   ]
  },
  {
   "cell_type": "code",
   "execution_count": 24,
   "id": "13d1ea67",
   "metadata": {},
   "outputs": [],
   "source": [
    "def get_contours(image, imgdilated):\n",
    "    contours, hierarchy = cv2.findContours(imgdilated, cv2.RETR_EXTERNAL, cv2.CHAIN_APPROX_NONE)\n",
    "    roi_arr = []\n",
    "    for cnt in contours:\n",
    "        area = cv2.contourArea(cnt)\n",
    "        if area > 8000:\n",
    "            x, y, w, h = cv2.boundingRect(cnt)\n",
    "            padding = 0\n",
    "            cv2.rectangle(image, (x, y + padding), (x + w, y + h + padding), (0, 255, 0), 3)\n",
    "            roi = image[y:y + h, x:x + w]\n",
    "            roi_arr.append(roi)\n",
    "    return roi_arr"
   ]
  },
  {
   "cell_type": "code",
   "execution_count": 25,
   "id": "9206949a",
   "metadata": {},
   "outputs": [],
   "source": [
    "def get_products(lst):\n",
    "    flyer_str = []\n",
    "    for i in lst:\n",
    "        i_gray = cv2.cvtColor(i, cv2.COLOR_BGR2GRAY)\n",
    "        string = pytesseract.image_to_string(i_gray)\n",
    "        flyer_str.append(string)\n",
    "    return flyer_str"
   ]
  },
  {
   "cell_type": "code",
   "execution_count": 26,
   "id": "1293c347",
   "metadata": {
    "scrolled": true
   },
   "outputs": [],
   "source": [
    "connected = preprocess(img)\n",
    "roi_array = get_contours(img, connected)\n",
    "flyer_str = get_products(roi_array)"
   ]
  },
  {
   "cell_type": "code",
   "execution_count": 29,
   "id": "b7aaaca6",
   "metadata": {},
   "outputs": [],
   "source": [
    "def text_extraction():\n",
    "    without_empty_strings = [string for string in flyer_str if string != \"\"]\n",
    "    \n",
    "    return without_empty_strings"
   ]
  },
  {
   "cell_type": "code",
   "execution_count": 30,
   "id": "103ac931",
   "metadata": {},
   "outputs": [
    {
     "data": {
      "text/plain": [
       "['Available for delivery at a higher price.\\n\\n= VIEW ONLINE OFFER\\n\\n',\n",
       " '=a\\n\\nTORTILLAS\\n\\nim\\n',\n",
       " 'Valid Oct. 16 to 29, 2023 2 WEEKS\\n\\nSAVE\\n\\n$2\\n\\nMejicano 7-in. or 10-in. regular\\nor whole wheat tortillas\\n\\n3 packs of 12 or 2 packs of 15\\n\\n1240888, 1240892, 1240894, 1240895\\n\\n',\n",
       " 'Valid Oct. 16 to 29, 2023 2 WEEKS\\nSAVE\\n\\n$3\\n\\nMoulin Rouge crushed\\ncayenne pepper or cayenne\\npepper powder\\n\\n1.4 kg or 1.8 kg\\n\\n1248185, 1248197\\n\\nAvailable for delivery at a higher price.\\n\\nVIEW ONLINE OFFER\\n\\n',\n",
       " 'Valid Oct. 16 to 29, 2023 2 WEEKS\\n\\n4 =\\n\\nHeinz real mayonnaise\\n\\n4L i\\n1180168 |—_——\"8\\nIn-warehouse $19.99\\n\\nInstant savings -$4.00 - =\\nPRICE $15.99\\n\\nAvailable for delivery at a higher price.\\n\\n= VIEW ONLINE OFFER\\n\\n',\n",
       " 'Available for delivery at a higher price.\\n\\nVIEW ONLINE OFFER\\n\\n',\n",
       " 'Available for delivery at a higher price.\\n\\nVIEW ONLINE OFFER\\n\\n',\n",
       " 'Valid Oct. 16 to 29, 2023 2 WEEKS\\nSAVE\\n\\n$6\\n\\nLea & Perrins Worcestershire\\n\\nsauce\\n\\neral\\n\\n1170282\\n\\nIn-warehouse $27.99\\nInstant savings -$6.00\\nPRICE $21.99\\n\\nAvailable for delivery at a higher price.\\n\\nVIEW ONLINE OFFER\\n\\n',\n",
       " \"Valid Oct. 16 to 29, 2023 2 WEEKS\\nSAVE\\n\\n$5\\n\\nKraft Rancher's Choice,\\nColeslaw or Creamy Caesar\\ndressing\\n\\n3.78L\\n\\n33478, 33480, 33493\\n\\n\",\n",
       " 'Valid Oct. 16 to 29, 2023 2 WEEKS\\nSAVE\\n\\n$6\\n\\nElegant 14% pressed yogurt\\n4.54 kg\\n1917614\\n\\n',\n",
       " 'Valid Oct. 16 to 29, 2023 2 WEEKS\\nSAVE\\n\\n$17\\n\\nBridor Greek yogurt cherry\\ndanish\\n\\n60x 1159\\n\\n1061223\\n\\nIn-warehouse $84.99\\n\\nInstant savings -$17.00\\nPRICE $67.99\\n\\nAvailable for delivery at a higher price.\\n\\n= VIEW ONLINE OFFER\\n\\n',\n",
       " 'Valid Oct. 16 to 29, 2023 2 WEEKS\\nSAVE\\n\\n$4\\n\\nSanta Lucia 50 g bocconcini\\ncheese\\n\\n1.5 kg\\n\\n1057915\\n\\nIn-warehouse $19.99\\nInstant savings -$4.00\\nPRICE $15.99\\n\\nAvailable for delivery at a higher price.\\n\\n= VIEW ONLINE OFFER\\n\\n',\n",
       " 'Valid Oct. 16 to 29, 2023 2 WEEKS\\nSAVE\\n\\n$4\\n\\nCastle Cheese shredded\\ncheddar flavoured topping\\n\\n2kg\\n\\n2252202\\n\\nIn-warehouse $18.99\\nInstant savings -$4.00\\nPRICE $14.99\\n\\nAvailable for delivery at a higher price.\\n\\nVIEW ONLINE OFFER\\n\\n',\n",
       " 'WAREHOUSE ONLY OFFER\\n\\n',\n",
       " 'WAREHOUSE ONLY OFFER\\n\\n',\n",
       " 'Valid Oct. 16 to 29, 2023 2 WEEKS\\nSAVE\\n\\n$4\\n\\nPER UNIT*\\n\\nMastro mild or hot Genoa\\nsalami\\n\\n*4.2 kg avg wt\\n\\n§2831, 52832\\n\\n',\n",
       " 'Valid Oct. 16 to 29, 2023 2 WEEKS\\nSAVE\\n\\n$3.50\\n\\nOpal Valley lean ground lamb\\n2% 454g\\n\\n23526\\n\\nIn-warehouse $16.99\\nInstant savings -$3.50\\nPRICE $13.49\\n\\nAvailable for delivery at a higher price.\\n\\nVIEW ONLINE OFFER\\n\\n',\n",
       " 'Valid Oct. 16 to 29, 2023 2 WEEKS\\nSAVE\\n\\n$8\\n\\nPER UNIT*\\n\\nFletcher’s extra lean cooked\\nham\\n\\n*5 kg avg wt\\n\\n52846\\n\\n',\n",
       " 'Valid Oct. 16 to 29, 2023 2 WEEKS\\nSAVE\\n\\n$8\\n\\nOlymel frozen pork breakfast\\n\\nsausages\\n\\n5kg\\n\\n1153622\\n\\nIn-warehouse $39.99\\nInstant savings -$8.00\\nPRICE $31.99\\n\\nAvailable for delivery at a higher price.\\n\\nVIEW ONLINE OFFER\\n\\n',\n",
       " 'Valid Oct. 16 to 29, 2023 2 WEEKS\\nSAVE\\n\\n$7\\n\\nSkoulakis frozen cooked\\nchicken breast portions\\n\\n2kg\\n\\n2061550\\n\\nIn-warehouse $34.99\\nInstant savings -$7.00\\nPRICE $27.99\\n\\nAvailable for delivery at a higher price.\\n\\nVIEW ONLINE OFFER\\n\\n',\n",
       " 'Valid Oct. 16 to 29, 2023 2 WEEKS\\nSAVE\\n\\n$40\\n\\nDOM Reserve Tuna Saku\\n\\nblocks\\n\\n454kg\\n\\n3026000\\n\\nIn-warehouse $189.99\\nInstant savings -$40.00\\nPRICE $149.99\\n\\nAvailable for delivery at a higher price.\\n\\nVIEW ONLINE OFFER\\n\\n']"
      ]
     },
     "execution_count": 30,
     "metadata": {},
     "output_type": "execute_result"
    }
   ],
   "source": [
    "text_extraction()\n"
   ]
  },
  {
   "cell_type": "code",
   "execution_count": 35,
   "id": "d586ee76",
   "metadata": {},
   "outputs": [
    {
     "data": {
      "text/plain": [
       "[\" 'Valid Oct. 16 to 29, 2023 2 WEEKS\",\n",
       " '',\n",
       " 'SAVE',\n",
       " '',\n",
       " '$2',\n",
       " '',\n",
       " 'Mejicano 7-in. or 10-in. regular',\n",
       " 'or whole wheat tortillas',\n",
       " '',\n",
       " '3 packs of 12 or 2 packs of 15',\n",
       " '',\n",
       " '1240888, 1240892, 1240894, 1240895',\n",
       " '',\n",
       " \"'\"]"
      ]
     },
     "execution_count": 35,
     "metadata": {},
     "output_type": "execute_result"
    }
   ],
   "source": [
    "\" 'Valid Oct. 16 to 29, 2023 2 WEEKS\\n\\nSAVE\\n\\n$2\\n\\nMejicano 7-in. or 10-in. regular\\nor whole wheat tortillas\\n\\n3 packs of 12 or 2 packs of 15\\n\\n1240888, 1240892, 1240894, 1240895\\n\\n'\".splitlines()"
   ]
  },
  {
   "cell_type": "code",
   "execution_count": 27,
   "id": "daaad3f2",
   "metadata": {},
   "outputs": [],
   "source": [
    "def text_extraction():\n",
    "    without_empty_strings = [string for string in flyer_str if string != \"\"]\n",
    "    brand, product, serving, sale_price, reg_price, valid_dt = [], [], [], [], [], []\n",
    "    for prod in without_empty_strings:\n",
    "\n",
    "        temp_lst = prod.splitlines()\n",
    "        str_list = list(filter(None, temp_lst))  # remove all empty strings\n",
    "\n",
    "        if len(str_list) < 2:\n",
    "            continue\n",
    "\n",
    "        if str_list[1].endswith(('”', '™', '“')):\n",
    "            str_list[1] = str_list[1][:-1]\n",
    "\n",
    "        if str_list[2].endswith(('”', '™', '“', '*')):\n",
    "            str_list[1] = str_list[1] + \" \" + str_list[2]\n",
    "            str_list.pop(2)\n",
    "\n",
    "        str_list[1] = re.sub(\"\\*\", '', str_list[1])\n",
    "\n",
    "        # unit of measure\n",
    "        try:\n",
    "            unit_index = [idx for idx, val in enumerate(str_list) if re.search(r\"\\d+\\s?(ml|-pack|g|L)$\", val)][0]\n",
    "        except:\n",
    "            unit_index = None\n",
    "\n",
    "        # Sale Prices\n",
    "        sale_index = [idx for idx, val in enumerate(str_list) if 'sale' in val.lower()]\n",
    "\n",
    "        # Regular Prices\n",
    "        reg_index = [idx for idx, val in enumerate(str_list) if 'regular' in val.lower()]\n",
    "\n",
    "        # Valid Dates\n",
    "        valid_index = [idx for idx, val in enumerate(str_list) if 'valid' in val.lower()]\n",
    "        print(valid_index)\n",
    "\n",
    "        brand.append(str_list[0])  # brand\n",
    "        product.append(str_list[1])  # product\n",
    "        sale_price.append(str_list[sale_index[0]] if sale_index else '')\n",
    "        reg_price.append(str_list[reg_index[0]] if reg_index else '')\n",
    "        valid_dt.append(str_list[valid_index[0]] if valid_index else '')\n",
    "        serving.append(str_list[unit_index] if unit_index else '')\n",
    "\n",
    "    df = pd.DataFrame(data=list(zip(brand, product, serving, sale_price, reg_price, valid_dt)),\n",
    "                      columns=['Brand', 'Product', 'Unit', ' Sale Price', 'Regular Price', 'Valid Dates']\n",
    "                      )\n",
    "    return df"
   ]
  },
  {
   "cell_type": "code",
   "execution_count": 28,
   "id": "321f2938",
   "metadata": {
    "scrolled": true
   },
   "outputs": [
    {
     "ename": "IndexError",
     "evalue": "list index out of range",
     "output_type": "error",
     "traceback": [
      "\u001b[1;31m---------------------------------------------------------------------------\u001b[0m",
      "\u001b[1;31mIndexError\u001b[0m                                Traceback (most recent call last)",
      "Cell \u001b[1;32mIn[28], line 1\u001b[0m\n\u001b[1;32m----> 1\u001b[0m df \u001b[38;5;241m=\u001b[39m text_extraction()\n\u001b[0;32m      2\u001b[0m \u001b[38;5;28mprint\u001b[39m(df)\n",
      "Cell \u001b[1;32mIn[27], line 15\u001b[0m, in \u001b[0;36mtext_extraction\u001b[1;34m()\u001b[0m\n\u001b[0;32m     12\u001b[0m \u001b[38;5;28;01mif\u001b[39;00m str_list[\u001b[38;5;241m1\u001b[39m]\u001b[38;5;241m.\u001b[39mendswith((\u001b[38;5;124m'\u001b[39m\u001b[38;5;124m”\u001b[39m\u001b[38;5;124m'\u001b[39m, \u001b[38;5;124m'\u001b[39m\u001b[38;5;124m™\u001b[39m\u001b[38;5;124m'\u001b[39m, \u001b[38;5;124m'\u001b[39m\u001b[38;5;124m“\u001b[39m\u001b[38;5;124m'\u001b[39m)):\n\u001b[0;32m     13\u001b[0m     str_list[\u001b[38;5;241m1\u001b[39m] \u001b[38;5;241m=\u001b[39m str_list[\u001b[38;5;241m1\u001b[39m][:\u001b[38;5;241m-\u001b[39m\u001b[38;5;241m1\u001b[39m]\n\u001b[1;32m---> 15\u001b[0m \u001b[38;5;28;01mif\u001b[39;00m str_list[\u001b[38;5;241m2\u001b[39m]\u001b[38;5;241m.\u001b[39mendswith((\u001b[38;5;124m'\u001b[39m\u001b[38;5;124m”\u001b[39m\u001b[38;5;124m'\u001b[39m, \u001b[38;5;124m'\u001b[39m\u001b[38;5;124m™\u001b[39m\u001b[38;5;124m'\u001b[39m, \u001b[38;5;124m'\u001b[39m\u001b[38;5;124m“\u001b[39m\u001b[38;5;124m'\u001b[39m, \u001b[38;5;124m'\u001b[39m\u001b[38;5;124m*\u001b[39m\u001b[38;5;124m'\u001b[39m)):\n\u001b[0;32m     16\u001b[0m     str_list[\u001b[38;5;241m1\u001b[39m] \u001b[38;5;241m=\u001b[39m str_list[\u001b[38;5;241m1\u001b[39m] \u001b[38;5;241m+\u001b[39m \u001b[38;5;124m\"\u001b[39m\u001b[38;5;124m \u001b[39m\u001b[38;5;124m\"\u001b[39m \u001b[38;5;241m+\u001b[39m str_list[\u001b[38;5;241m2\u001b[39m]\n\u001b[0;32m     17\u001b[0m     str_list\u001b[38;5;241m.\u001b[39mpop(\u001b[38;5;241m2\u001b[39m)\n",
      "\u001b[1;31mIndexError\u001b[0m: list index out of range"
     ]
    }
   ],
   "source": [
    "df = text_extraction()\n",
    "print(df)"
   ]
  },
  {
   "cell_type": "code",
   "execution_count": null,
   "id": "2b3441b7",
   "metadata": {},
   "outputs": [],
   "source": [
    "df"
   ]
  },
  {
   "cell_type": "code",
   "execution_count": null,
   "id": "bb38772e",
   "metadata": {},
   "outputs": [],
   "source": []
  }
 ],
 "metadata": {
  "kernelspec": {
   "display_name": "flyers_scrape",
   "language": "python",
   "name": "flyers_scrape"
  },
  "language_info": {
   "codemirror_mode": {
    "name": "ipython",
    "version": 3
   },
   "file_extension": ".py",
   "mimetype": "text/x-python",
   "name": "python",
   "nbconvert_exporter": "python",
   "pygments_lexer": "ipython3",
   "version": "3.11.5"
  }
 },
 "nbformat": 4,
 "nbformat_minor": 5
}
